{
 "cells": [
  {
   "cell_type": "markdown",
   "metadata": {},
   "source": [
    "2.2.1. Reading the dataset"
   ]
  },
  {
   "cell_type": "code",
   "execution_count": 1,
   "metadata": {},
   "outputs": [],
   "source": [
    "import pandas as pd\n",
    "import numpy as np"
   ]
  },
  {
   "cell_type": "code",
   "execution_count": 2,
   "metadata": {},
   "outputs": [
    {
     "data": {
      "text/plain": [
       "(DatetimeIndex(['2000-01-01', '2000-01-02', '2000-01-03', '2000-01-04',\n",
       "                '2000-01-05', '2000-01-06', '2000-01-07', '2000-01-08'],\n",
       "               dtype='datetime64[ns]', freq='D'),\n",
       " a   -0.443834\n",
       " b   -0.403672\n",
       " c    1.313529\n",
       " d   -2.068749\n",
       " e    0.492680\n",
       " dtype: float64)"
      ]
     },
     "execution_count": 2,
     "metadata": {},
     "output_type": "execute_result"
    }
   ],
   "source": [
    "index = pd.date_range(\"1/1/2000\", periods=8)\n",
    "s=pd.Series(np.random.randn(5), index=[\"a\", \"b\", \"c\", \"d\", \"e\"])\n",
    "index, s"
   ]
  },
  {
   "cell_type": "code",
   "execution_count": 3,
   "metadata": {},
   "outputs": [],
   "source": [
    "df = pd.DataFrame(np.random.randn(8, 3), index=index, columns=[\"A\", \"B\", \"C\"])"
   ]
  },
  {
   "cell_type": "code",
   "execution_count": 4,
   "metadata": {},
   "outputs": [
    {
     "data": {
      "text/html": [
       "<div>\n",
       "<style scoped>\n",
       "    .dataframe tbody tr th:only-of-type {\n",
       "        vertical-align: middle;\n",
       "    }\n",
       "\n",
       "    .dataframe tbody tr th {\n",
       "        vertical-align: top;\n",
       "    }\n",
       "\n",
       "    .dataframe thead th {\n",
       "        text-align: right;\n",
       "    }\n",
       "</style>\n",
       "<table border=\"1\" class=\"dataframe\">\n",
       "  <thead>\n",
       "    <tr style=\"text-align: right;\">\n",
       "      <th></th>\n",
       "      <th>A</th>\n",
       "      <th>B</th>\n",
       "      <th>C</th>\n",
       "    </tr>\n",
       "  </thead>\n",
       "  <tbody>\n",
       "    <tr>\n",
       "      <th>2000-01-01</th>\n",
       "      <td>-0.755048</td>\n",
       "      <td>-1.071601</td>\n",
       "      <td>0.955955</td>\n",
       "    </tr>\n",
       "    <tr>\n",
       "      <th>2000-01-02</th>\n",
       "      <td>0.788434</td>\n",
       "      <td>0.519427</td>\n",
       "      <td>-0.781655</td>\n",
       "    </tr>\n",
       "    <tr>\n",
       "      <th>2000-01-03</th>\n",
       "      <td>0.127962</td>\n",
       "      <td>-1.553323</td>\n",
       "      <td>0.084745</td>\n",
       "    </tr>\n",
       "    <tr>\n",
       "      <th>2000-01-04</th>\n",
       "      <td>0.309068</td>\n",
       "      <td>-0.065274</td>\n",
       "      <td>0.745286</td>\n",
       "    </tr>\n",
       "    <tr>\n",
       "      <th>2000-01-05</th>\n",
       "      <td>0.979263</td>\n",
       "      <td>-1.997909</td>\n",
       "      <td>-0.354807</td>\n",
       "    </tr>\n",
       "    <tr>\n",
       "      <th>2000-01-06</th>\n",
       "      <td>-0.502735</td>\n",
       "      <td>0.655013</td>\n",
       "      <td>-0.325583</td>\n",
       "    </tr>\n",
       "    <tr>\n",
       "      <th>2000-01-07</th>\n",
       "      <td>-1.324891</td>\n",
       "      <td>-1.104164</td>\n",
       "      <td>1.055749</td>\n",
       "    </tr>\n",
       "    <tr>\n",
       "      <th>2000-01-08</th>\n",
       "      <td>0.349803</td>\n",
       "      <td>-0.902025</td>\n",
       "      <td>-1.121367</td>\n",
       "    </tr>\n",
       "  </tbody>\n",
       "</table>\n",
       "</div>"
      ],
      "text/plain": [
       "                   A         B         C\n",
       "2000-01-01 -0.755048 -1.071601  0.955955\n",
       "2000-01-02  0.788434  0.519427 -0.781655\n",
       "2000-01-03  0.127962 -1.553323  0.084745\n",
       "2000-01-04  0.309068 -0.065274  0.745286\n",
       "2000-01-05  0.979263 -1.997909 -0.354807\n",
       "2000-01-06 -0.502735  0.655013 -0.325583\n",
       "2000-01-07 -1.324891 -1.104164  1.055749\n",
       "2000-01-08  0.349803 -0.902025 -1.121367"
      ]
     },
     "execution_count": 4,
     "metadata": {},
     "output_type": "execute_result"
    }
   ],
   "source": [
    "df"
   ]
  },
  {
   "cell_type": "code",
   "execution_count": 5,
   "metadata": {},
   "outputs": [],
   "source": [
    " long_series = pd.Series(np.random.randn(1000))\n"
   ]
  },
  {
   "cell_type": "code",
   "execution_count": 6,
   "metadata": {},
   "outputs": [
    {
     "data": {
      "text/plain": [
       "0   -0.443038\n",
       "1   -0.358525\n",
       "2   -1.262142\n",
       "3   -2.326022\n",
       "4    0.256041\n",
       "dtype: float64"
      ]
     },
     "execution_count": 6,
     "metadata": {},
     "output_type": "execute_result"
    }
   ],
   "source": [
    "long_series.head()"
   ]
  },
  {
   "cell_type": "code",
   "execution_count": 7,
   "metadata": {},
   "outputs": [
    {
     "data": {
      "text/plain": [
       "995   -1.127688\n",
       "996   -0.660931\n",
       "997   -1.885088\n",
       "998    0.087321\n",
       "999    1.382330\n",
       "dtype: float64"
      ]
     },
     "execution_count": 7,
     "metadata": {},
     "output_type": "execute_result"
    }
   ],
   "source": [
    "long_series.tail()"
   ]
  },
  {
   "cell_type": "code",
   "execution_count": 8,
   "metadata": {},
   "outputs": [
    {
     "data": {
      "text/plain": [
       "((1000,), (8, 3))"
      ]
     },
     "execution_count": 8,
     "metadata": {},
     "output_type": "execute_result"
    }
   ],
   "source": [
    "long_series.shape,df.shape"
   ]
  },
  {
   "cell_type": "code",
   "execution_count": 9,
   "metadata": {},
   "outputs": [
    {
     "data": {
      "text/plain": [
       "(                   A         B         C\n",
       " 2000-01-02  0.788434  0.519427 -0.781655,\n",
       "                    A         B         C\n",
       " 2000-01-01 -0.755048 -1.071601  0.955955\n",
       " 2000-01-02  0.788434  0.519427 -0.781655)"
      ]
     },
     "execution_count": 9,
     "metadata": {},
     "output_type": "execute_result"
    }
   ],
   "source": [
    "df[1:2], df[:2]"
   ]
  },
  {
   "cell_type": "code",
   "execution_count": 13,
   "metadata": {},
   "outputs": [
    {
     "name": "stderr",
     "output_type": "stream",
     "text": [
      "<ipython-input-13-d61cf7f09766>:2: FutureWarning: Slicing a positional slice with .loc is not supported, and will raise TypeError in a future version.  Use .loc with labels or .iloc with positions instead.\n",
      "  df.loc[:1, 1:2] = 1.1\n"
     ]
    },
    {
     "data": {
      "text/html": [
       "<div>\n",
       "<style scoped>\n",
       "    .dataframe tbody tr th:only-of-type {\n",
       "        vertical-align: middle;\n",
       "    }\n",
       "\n",
       "    .dataframe tbody tr th {\n",
       "        vertical-align: top;\n",
       "    }\n",
       "\n",
       "    .dataframe thead th {\n",
       "        text-align: right;\n",
       "    }\n",
       "</style>\n",
       "<table border=\"1\" class=\"dataframe\">\n",
       "  <thead>\n",
       "    <tr style=\"text-align: right;\">\n",
       "      <th></th>\n",
       "      <th>a</th>\n",
       "      <th>b</th>\n",
       "      <th>c</th>\n",
       "    </tr>\n",
       "  </thead>\n",
       "  <tbody>\n",
       "    <tr>\n",
       "      <th>2000-01-01</th>\n",
       "      <td>-0.755048</td>\n",
       "      <td>1.1</td>\n",
       "      <td>0.955955</td>\n",
       "    </tr>\n",
       "    <tr>\n",
       "      <th>2000-01-02</th>\n",
       "      <td>0.788434</td>\n",
       "      <td>NaN</td>\n",
       "      <td>-0.781655</td>\n",
       "    </tr>\n",
       "    <tr>\n",
       "      <th>2000-01-03</th>\n",
       "      <td>0.127962</td>\n",
       "      <td>NaN</td>\n",
       "      <td>0.084745</td>\n",
       "    </tr>\n",
       "    <tr>\n",
       "      <th>2000-01-04</th>\n",
       "      <td>0.309068</td>\n",
       "      <td>NaN</td>\n",
       "      <td>0.745286</td>\n",
       "    </tr>\n",
       "    <tr>\n",
       "      <th>2000-01-05</th>\n",
       "      <td>0.979263</td>\n",
       "      <td>NaN</td>\n",
       "      <td>-0.354807</td>\n",
       "    </tr>\n",
       "    <tr>\n",
       "      <th>2000-01-06</th>\n",
       "      <td>-0.502735</td>\n",
       "      <td>NaN</td>\n",
       "      <td>-0.325583</td>\n",
       "    </tr>\n",
       "    <tr>\n",
       "      <th>2000-01-07</th>\n",
       "      <td>-1.324891</td>\n",
       "      <td>NaN</td>\n",
       "      <td>1.055749</td>\n",
       "    </tr>\n",
       "    <tr>\n",
       "      <th>2000-01-08</th>\n",
       "      <td>0.349803</td>\n",
       "      <td>NaN</td>\n",
       "      <td>-1.121367</td>\n",
       "    </tr>\n",
       "  </tbody>\n",
       "</table>\n",
       "</div>"
      ],
      "text/plain": [
       "                   a    b         c\n",
       "2000-01-01 -0.755048  1.1  0.955955\n",
       "2000-01-02  0.788434  NaN -0.781655\n",
       "2000-01-03  0.127962  NaN  0.084745\n",
       "2000-01-04  0.309068  NaN  0.745286\n",
       "2000-01-05  0.979263  NaN -0.354807\n",
       "2000-01-06 -0.502735  NaN -0.325583\n",
       "2000-01-07 -1.324891  NaN  1.055749\n",
       "2000-01-08  0.349803  NaN -1.121367"
      ]
     },
     "execution_count": 13,
     "metadata": {},
     "output_type": "execute_result"
    }
   ],
   "source": [
    "df.columns = [x.lower() for x in df.columns]\n",
    "df.loc[:1, 1:2] = 1.1\n",
    "df"
   ]
  },
  {
   "cell_type": "code",
   "execution_count": 14,
   "metadata": {},
   "outputs": [
    {
     "name": "stdout",
     "output_type": "stream",
     "text": [
      "                   a    b\n",
      "2000-01-01 -0.755048  1.1\n",
      "2000-01-02  0.788434  NaN\n",
      "2000-01-03  0.127962  NaN\n",
      "2000-01-04  0.309068  NaN\n",
      "2000-01-05  0.979263  NaN\n",
      "2000-01-06 -0.502735  NaN\n",
      "2000-01-07 -1.324891  NaN\n",
      "2000-01-08  0.349803  NaN\n"
     ]
    }
   ],
   "source": [
    "inputs, outputs = df.iloc[:, 0:2], df.iloc[:, 2]\n",
    "inputs = inputs.fillna(inputs.mean())\n",
    "print(inputs)"
   ]
  },
  {
   "cell_type": "code",
   "execution_count": 15,
   "metadata": {},
   "outputs": [
    {
     "name": "stdout",
     "output_type": "stream",
     "text": [
      "                   a  b_1.1  b_NaN  b_nan\n",
      "2000-01-01 -0.755048      1      0      0\n",
      "2000-01-02  0.788434      0      1      0\n",
      "2000-01-03  0.127962      0      1      0\n",
      "2000-01-04  0.309068      0      1      0\n",
      "2000-01-05  0.979263      0      1      0\n",
      "2000-01-06 -0.502735      0      1      0\n",
      "2000-01-07 -1.324891      0      1      0\n",
      "2000-01-08  0.349803      0      1      0\n"
     ]
    }
   ],
   "source": [
    "inputs = pd.get_dummies(inputs, dummy_na=True)\n",
    "print(inputs)"
   ]
  },
  {
   "cell_type": "code",
   "execution_count": 16,
   "metadata": {},
   "outputs": [
    {
     "data": {
      "text/plain": [
       "(array([[-0.75504776,  1.        ,  0.        ,  0.        ],\n",
       "        [ 0.78843358,  0.        ,  1.        ,  0.        ],\n",
       "        [ 0.12796204,  0.        ,  1.        ,  0.        ],\n",
       "        [ 0.30906751,  0.        ,  1.        ,  0.        ],\n",
       "        [ 0.97926335,  0.        ,  1.        ,  0.        ],\n",
       "        [-0.50273462,  0.        ,  1.        ,  0.        ],\n",
       "        [-1.32489121,  0.        ,  1.        ,  0.        ],\n",
       "        [ 0.34980342,  0.        ,  1.        ,  0.        ]]),\n",
       " array([ 0.9559552 , -0.78165547,  0.08474538,  0.74528566, -0.35480669,\n",
       "        -0.3255827 ,  1.05574935, -1.12136713]))"
      ]
     },
     "execution_count": 16,
     "metadata": {},
     "output_type": "execute_result"
    }
   ],
   "source": [
    "from mxnet import np as npx\n",
    "X,y = np.array(inputs.values), np.array(outputs.values)\n",
    "X,y"
   ]
  },
  {
   "cell_type": "code",
   "execution_count": null,
   "metadata": {},
   "outputs": [],
   "source": []
  }
 ],
 "metadata": {
  "kernelspec": {
   "display_name": "Python 3",
   "language": "python",
   "name": "python3"
  },
  "language_info": {
   "codemirror_mode": {
    "name": "ipython",
    "version": 3
   },
   "file_extension": ".py",
   "mimetype": "text/x-python",
   "name": "python",
   "nbconvert_exporter": "python",
   "pygments_lexer": "ipython3",
   "version": "3.8.6rc1"
  }
 },
 "nbformat": 4,
 "nbformat_minor": 4
}
