{
 "cells": [
  {
   "cell_type": "code",
   "execution_count": 4,
   "metadata": {},
   "outputs": [
    {
     "name": "stdout",
     "output_type": "stream",
     "text": [
      "tensor([[0.8876, 0.1334, 0.6111, 0.0057, 0.0192, 0.3799, 0.2161, 0.8459, 0.2224,\n",
      "         0.3825, 0.3070, 0.2661, 0.7501, 0.2896, 0.1779, 0.8660, 0.3644, 0.3591,\n",
      "         0.4851, 0.4285],\n",
      "        [0.9819, 0.6834, 0.6290, 0.6682, 0.3998, 0.7408, 0.2923, 0.4500, 0.5798,\n",
      "         0.4909, 0.3907, 0.6626, 0.7708, 0.2326, 0.2396, 0.5578, 0.2143, 0.1209,\n",
      "         0.8254, 0.7266]])\n"
     ]
    },
    {
     "data": {
      "text/plain": [
       "tensor([[ 0.0924,  0.0684,  0.0050, -0.0062,  0.0203, -0.0071, -0.2480,  0.0500,\n",
       "         -0.0856,  0.1289],\n",
       "        [-0.0222, -0.0348, -0.0796, -0.0485,  0.1262, -0.0565, -0.3394,  0.1388,\n",
       "         -0.1128,  0.2120]], grad_fn=<AddmmBackward>)"
      ]
     },
     "execution_count": 4,
     "metadata": {},
     "output_type": "execute_result"
    }
   ],
   "source": [
    "import torch\n",
    "from torch import nn\n",
    "from torch.nn import functional as F\n",
    "net = nn.Sequential(nn.Linear(20, 256), nn.ReLU(), nn.Linear(256,10))\n",
    "\n",
    "X = torch.rand(2,20)\n",
    "print(X)\n",
    "net(X)"
   ]
  },
  {
   "cell_type": "markdown",
   "metadata": {},
   "source": [
    "## A custom block"
   ]
  },
  {
   "cell_type": "code",
   "execution_count": 6,
   "metadata": {},
   "outputs": [],
   "source": [
    "class MLP(nn.Module):\n",
    "    def __init__(self):\n",
    "        super().__init__()\n",
    "        self.hidden = nn.Linear(20, 256)\n",
    "        self.out = nn.Linear(256, 10)\n",
    "        \n",
    "        \n",
    "    def forward(self, X):\n",
    "        return self.out(F.relu(self.hidden(X)))"
   ]
  },
  {
   "cell_type": "code",
   "execution_count": 7,
   "metadata": {},
   "outputs": [
    {
     "data": {
      "text/plain": [
       "tensor([[ 0.0861, -0.1247, -0.2825, -0.1465,  0.0531, -0.1004, -0.1307, -0.1246,\n",
       "         -0.0225, -0.1043],\n",
       "        [ 0.1044, -0.0895, -0.2892, -0.1082,  0.0543,  0.0250, -0.1691, -0.1606,\n",
       "          0.0698, -0.1879]], grad_fn=<AddmmBackward>)"
      ]
     },
     "execution_count": 7,
     "metadata": {},
     "output_type": "execute_result"
    }
   ],
   "source": [
    "net = MLP()\n",
    "net(X)"
   ]
  },
  {
   "cell_type": "markdown",
   "metadata": {},
   "source": [
    "## A sequential block"
   ]
  },
  {
   "cell_type": "code",
   "execution_count": 9,
   "metadata": {},
   "outputs": [],
   "source": [
    "class MySequential(nn.Module):\n",
    "    def __init__(self, *args):\n",
    "        super().__init__()\n",
    "        for block in args:\n",
    "            # Here, `block` is an instance of a `Module` subclass. We save it\n",
    "            # in the member variable `_modules` of the `Module` class, and its\n",
    "            # type is OrderedDict\n",
    "            self._modules[block] = block\n",
    "            \n",
    "    def forward(self, X):\n",
    "        # OrderedDict guarantees that members will be traversed in the order\n",
    "        # they were added\n",
    "        for block in self._modules.values():\n",
    "            X = block(X)\n",
    "        return X"
   ]
  },
  {
   "cell_type": "code",
   "execution_count": 10,
   "metadata": {},
   "outputs": [
    {
     "data": {
      "text/plain": [
       "tensor([[-0.0126,  0.0057,  0.1424, -0.0435, -0.1293,  0.0715, -0.0451,  0.1592,\n",
       "          0.1003,  0.0553],\n",
       "        [ 0.0749, -0.1080,  0.3019, -0.0042, -0.2257,  0.1350, -0.0580,  0.2217,\n",
       "          0.1635, -0.0461]], grad_fn=<AddmmBackward>)"
      ]
     },
     "execution_count": 10,
     "metadata": {},
     "output_type": "execute_result"
    }
   ],
   "source": [
    "net = MySequential(nn.Linear(20, 256), nn.ReLU(), nn.Linear(256, 10))\n",
    "net(X)"
   ]
  },
  {
   "cell_type": "code",
   "execution_count": null,
   "metadata": {},
   "outputs": [],
   "source": []
  }
 ],
 "metadata": {
  "kernelspec": {
   "display_name": "Python 3",
   "language": "python",
   "name": "python3"
  },
  "language_info": {
   "codemirror_mode": {
    "name": "ipython",
    "version": 3
   },
   "file_extension": ".py",
   "mimetype": "text/x-python",
   "name": "python",
   "nbconvert_exporter": "python",
   "pygments_lexer": "ipython3",
   "version": "3.8.6"
  }
 },
 "nbformat": 4,
 "nbformat_minor": 4
}
